{
  "nbformat": 4,
  "nbformat_minor": 0,
  "metadata": {
    "colab": {
      "provenance": [],
      "authorship_tag": "ABX9TyM8nM80pr5VIUhk3FziGnTU",
      "include_colab_link": true
    },
    "kernelspec": {
      "name": "python3",
      "display_name": "Python 3"
    },
    "language_info": {
      "name": "python"
    }
  },
  "cells": [
    {
      "cell_type": "markdown",
      "metadata": {
        "id": "view-in-github",
        "colab_type": "text"
      },
      "source": [
        "<a href=\"https://colab.research.google.com/github/amaartin/Senales-y-Sistemas/blob/main/Taller_2_Laplace.ipynb\" target=\"_parent\"><img src=\"https://colab.research.google.com/assets/colab-badge.svg\" alt=\"Open In Colab\"/></a>"
      ]
    },
    {
      "cell_type": "markdown",
      "source": [
        "#Solucion de taller 2 parte de laplace\n",
        "\n",
        "- Los ejercicios del 1,2,3,4 se encuentran en este cuadernos de github:https://github.com/amaartin/Senales-y-Sistemas/blob/main/Cuaderno_TransformadaZ.ipynb\n",
        "\n"
      ],
      "metadata": {
        "id": "2LhwcA46T5mK"
      }
    },
    {
      "cell_type": "markdown",
      "source": [
        "Sea la senal Gaussiana $x(t) = e−at2$ con a ∈ R+, el sistema A con relacion entrada-salida $yA(t) = x2(t)$, y el sistema\n",
        "lineal e invariante con el tiempo B con respuesta al impulso\n",
        "$hB(t) = Be−bt2$\n",
        "\n",
        " a) Encuentre la salida del sistema en serie\n",
        "$x(t) → hB(t) → yA(t) → y(t) $\n",
        "b) Encuentre la salida del\n",
        "sistema en serie $x(t) → yA(t) → hB(t) → y(t).$\n",
        "\n",
        "Ejercicios resueltos en:https://github.com/amaartin/Senales-y-Sistemas/blob/main/Taller%20Laplace%20Puntos%206%2C9%2C10%2C13.pdf"
      ],
      "metadata": {
        "id": "4Ge_tQhXXsRv"
      }
    },
    {
      "cell_type": "markdown",
      "source": [
        "- Consultar y realizar los ejercicios del cuaderno Definicion´\n",
        "transformada de la Laplace.\n",
        "\n",
        "Ejercicios realizados en:\n",
        " https://github.com/amaartin/Senales-y-Sistemas/blob/main/Cuaderno_1_Laplace_Definicion.ipynb\n",
        "\n",
        "- Consultar y realizar los ejercicios del cuaderno Propiedades\n",
        "basicas transformada de la Laplace.\n",
        "\n",
        "Ejercicios realizados en: https://github.com/amaartin/Senales-y-Sistemas/blob/main/Cuaderno_2_Propiedades_Laplace.ipynb"
      ],
      "metadata": {
        "id": "61ozR0wuYOSD"
      }
    },
    {
      "cell_type": "markdown",
      "source": [
        "- Demuestre las siguientes propiedades (sin utilizar tablas de\n",
        "propiedades):$$ i) L{x(t−to)} = e−stoX(s), ii) L{x(at)} =\n",
        "1\n",
        "|a|X(s/a), iii) L{dx(t)\n",
        "dt } = sX(s), y iv) L{x(t) ∗ y(t)} =\n",
        "X(s)Y (s).$$ Ver material de apoyo y propiedades de Laplace.\n",
        "\n",
        "Ejercicios resueltos en:https://github.com/amaartin/Senales-y-Sistemas/blob/main/Taller%20Laplace%20Puntos%206%2C9%2C10%2C13.pdf\n",
        "\n",
        "\n",
        "-  Encuentre la transformada de Laplace, dibuje el esquema\n",
        "de polos y ceros y la regi´on de convergencia (ROC), de\n",
        "las siguientes se˜nales:$$ i) e−2tu(t) + e−3tu(t), ii) e2tu(t) +\n",
        "e−3tu(−t), iii) e−a|t|, iv) e−2t[u(t) − u(t − 5)].$$\n",
        "\n",
        "Ejercicios resueltos en:https://github.com/amaartin/Senales-y-Sistemas/blob/main/Taller%20Laplace%20Puntos%206%2C9%2C10%2C13.pdf\n",
        "\n",
        "\n",
        "\n",
        "\n",
        "\n"
      ],
      "metadata": {
        "id": "3s-aWKPF1zY4"
      }
    },
    {
      "cell_type": "markdown",
      "source": [
        "\n",
        "\n",
        "\n",
        "- Consultar y realizar los ejercicios del cuaderno Autofunciones\n",
        "y SLITs.\n",
        "https://github.com/amaartin/Senales-y-Sistemas/blob/main/Cuaderno_4_Laplace_Autofunciones.ipynb"
      ],
      "metadata": {
        "id": "NCrBFyzDLbqZ"
      }
    },
    {
      "cell_type": "markdown",
      "source": [],
      "metadata": {
        "id": "y2kw6l19LH72"
      }
    },
    {
      "cell_type": "markdown",
      "source": [
        "Consulte en que consiste un sistema subamortiguado, sobreamortiguado,\n",
        "y de amortiguamiento crıtico (ver Pendulo\n",
        "elastico y forma can´onica SLITs). Genere simulaciones para\n",
        "ejemplificar cada uno de los casos con los sistemas R,L,C serie\n",
        "y paralelo estudiados. Nota: asuma condiciones iniciales\n",
        "cero. Encuentre las expresiones para el factor de amortiguamiento,\n",
        "la frecuencia natural no amortiguada y la frecuencia\n",
        "natural amortiguada en funcion de R, L, y C (asuma condiciones\n",
        "iniciales cero). Utilizando la herramienta Streamlit,\n",
        "genere un dashboard para la simulacion de los sistemas.\n",
        "El usuario podra escoger el tipo de circuito (serie o paralelo),\n",
        "el tipo de respuesta (subamortiguado, sobreamortiguado,\n",
        "amortiguamiento crıtico o inestable), el factor de amortiguamiento\n",
        "(restringido por el dashboard segun sea el caso) y la\n",
        "frecuencia natural. El dashboard debera mostrar el diagrama\n",
        "de bode, diagrama de polos y ceros, respuesta al impulso, al\n",
        "escalon y a la rampa, el tiempo de levantamiento, maximo\n",
        "sobreimpulso, tiempo del maximo sobreimpulso, tiempo de\n",
        "establecimiento y los valores de R, L, C estimados."
      ],
      "metadata": {
        "id": "CKq54DP12bll"
      }
    },
    {
      "cell_type": "code",
      "execution_count": null,
      "metadata": {
        "id": "9A7NHRtgTAlo"
      },
      "outputs": [],
      "source": []
    },
    {
      "cell_type": "code",
      "source": [],
      "metadata": {
        "id": "D9bMFUqYLDS4"
      },
      "execution_count": null,
      "outputs": []
    }
  ]
}